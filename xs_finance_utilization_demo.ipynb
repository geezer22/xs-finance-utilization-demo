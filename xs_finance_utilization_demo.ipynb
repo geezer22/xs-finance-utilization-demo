{
 "cells": [
  {
   "cell_type": "markdown",
   "id": "d2effbae",
   "metadata": {},
   "source": [
    "# XSOLIS Finance/Utilization Demo\n",
    "\n",
    "Synthetic finance & utilization analysis with KPIs and visuals."
   ]
  },
  {
   "cell_type": "code",
   "execution_count": null,
   "id": "e62f23fd",
   "metadata": {},
   "outputs": [],
   "source": [
    "\n",
    "import pandas as pd\n",
    "import numpy as np\n",
    "import matplotlib.pyplot as plt\n",
    "\n",
    "df = pd.read_csv(\"data/cases.csv\", parse_dates=[\"admit_date\",\"discharge_date\"])\n",
    "df.head()\n"
   ]
  },
  {
   "cell_type": "markdown",
   "id": "eae16368",
   "metadata": {},
   "source": [
    "## Basic KPIs"
   ]
  },
  {
   "cell_type": "code",
   "execution_count": null,
   "id": "5da53b67",
   "metadata": {},
   "outputs": [],
   "source": [
    "\n",
    "total_cases = len(df)\n",
    "avg_los = df[\"length_of_stay\"].mean()\n",
    "readmit_rate = df[\"readmission_30d\"].mean()\n",
    "mismatch_rate = df[\"mismatch\"].mean()\n",
    "\n",
    "provider_total = df[\"provider_cost\"].sum()\n",
    "payer_total = df[\"payer_cost\"].sum()\n",
    "budget_total = df[\"budget_cost\"].sum()\n",
    "\n",
    "variance_budget_total = provider_total - budget_total\n",
    "variance_payer_provider_total = provider_total - payer_total\n",
    "\n",
    "kpis = {\n",
    "    \"Total Cases\": total_cases,\n",
    "    \"Avg LOS (days)\": round(avg_los, 2),\n",
    "    \"Readmission Rate\": f\"{readmit_rate:.1%}\",\n",
    "    \"Mismatch Rate\": f\"{mismatch_rate:.1%}\",\n",
    "    \"Total Provider Cost ($)\": round(provider_total, 2),\n",
    "    \"Total Payer Cost ($)\": round(payer_total, 2),\n",
    "    \"Total Budget Cost ($)\": round(budget_total, 2),\n",
    "    \"Provider vs Budget Variance ($)\": round(variance_budget_total, 2),\n",
    "    \"Provider vs Payer Variance ($)\": round(variance_payer_provider_total, 2),\n",
    "}\n",
    "kpis\n"
   ]
  },
  {
   "cell_type": "markdown",
   "id": "588d3250",
   "metadata": {},
   "source": [
    "## LOS Trend by Month"
   ]
  },
  {
   "cell_type": "code",
   "execution_count": null,
   "id": "830c5888",
   "metadata": {},
   "outputs": [],
   "source": [
    "\n",
    "df[\"admit_month\"] = df[\"admit_date\"].dt.to_period(\"M\").dt.to_timestamp()\n",
    "los_by_month = df.groupby(\"admit_month\")[\"length_of_stay\"].mean()\n",
    "\n",
    "plt.figure()\n",
    "los_by_month.plot(kind=\"line\", title=\"Average Length of Stay by Month\")\n",
    "plt.xlabel(\"Month\"); plt.ylabel(\"Average LOS (days)\"); plt.tight_layout(); plt.show()\n"
   ]
  },
  {
   "cell_type": "markdown",
   "id": "557376c6",
   "metadata": {},
   "source": [
    "## Provider vs Payer Cost Distribution"
   ]
  },
  {
   "cell_type": "code",
   "execution_count": null,
   "id": "0d2a2d7c",
   "metadata": {},
   "outputs": [],
   "source": [
    "\n",
    "plt.figure()\n",
    "df[[\"provider_cost\",\"payer_cost\"]].plot(kind=\"box\", title=\"Cost Distribution: Provider vs Payer\")\n",
    "plt.ylabel(\"USD\"); plt.tight_layout(); plt.show()\n"
   ]
  },
  {
   "cell_type": "markdown",
   "id": "2b00d418",
   "metadata": {},
   "source": [
    "## Mismatch Rate by Provider"
   ]
  },
  {
   "cell_type": "code",
   "execution_count": null,
   "id": "40209cfb",
   "metadata": {},
   "outputs": [],
   "source": [
    "\n",
    "mismatch_rate = df.groupby(\"provider\")[\"mismatch\"].mean().sort_values()\n",
    "\n",
    "plt.figure()\n",
    "mismatch_rate.plot(kind=\"barh\", title=\"Payer/Provider Cost Mismatch Rate by Provider\")\n",
    "plt.xlabel(\"Mismatch Rate\"); plt.tight_layout(); plt.show()\n"
   ]
  },
  {
   "cell_type": "markdown",
   "id": "2469d186",
   "metadata": {},
   "source": [
    "## Avg Provider Variance vs Budget by DRG"
   ]
  },
  {
   "cell_type": "code",
   "execution_count": null,
   "id": "ed83c255",
   "metadata": {},
   "outputs": [],
   "source": [
    "\n",
    "variance_by_drg = (df.assign(variance=df[\"provider_cost\"] - df[\"budget_cost\"])\n",
    "                     .groupby(\"drg\")[\"variance\"].mean().sort_values(ascending=False))\n",
    "\n",
    "plt.figure()\n",
    "variance_by_drg.plot(kind=\"bar\", title=\"Avg Provider Variance vs Budget by DRG\")\n",
    "plt.ylabel(\"USD\"); plt.tight_layout(); plt.show()\n"
   ]
  }
 ],
 "metadata": {},
 "nbformat": 4,
 "nbformat_minor": 5
}
